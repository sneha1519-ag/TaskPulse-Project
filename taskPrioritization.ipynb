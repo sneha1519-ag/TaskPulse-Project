{
 "cells": [
  {
   "metadata": {
    "ExecuteTime": {
     "end_time": "2025-02-28T17:26:42.866821Z",
     "start_time": "2025-02-28T17:26:42.857842Z"
    }
   },
   "cell_type": "code",
   "source": [
    "import sys\n",
    "print(sys.version)"
   ],
   "id": "551a9a98c35c5ba9",
   "outputs": [
    {
     "name": "stdout",
     "output_type": "stream",
     "text": [
      "3.12.4 (v3.12.4:8e8a4baf65, Jun  6 2024, 17:33:18) [Clang 13.0.0 (clang-1300.0.29.30)]\n"
     ]
    }
   ],
   "execution_count": 1
  },
  {
   "cell_type": "code",
   "id": "initial_id",
   "metadata": {
    "collapsed": true,
    "ExecuteTime": {
     "end_time": "2025-03-05T16:40:31.111716Z",
     "start_time": "2025-03-05T16:40:17.661306Z"
    }
   },
   "source": [
    "import spacy\n",
    "import dateparser\n",
    "import pandas as pd\n",
    "from datetime import datetime, timedelta\n",
    "from nltk.corpus import wordnet as wn\n",
    "import nltk\n"
   ],
   "outputs": [
    {
     "name": "stderr",
     "output_type": "stream",
     "text": [
      "/Library/Frameworks/Python.framework/Versions/3.12/lib/python3.12/site-packages/torch/utils/_pytree.py:185: FutureWarning: optree is installed but the version is too old to support PyTorch Dynamo in C++ pytree. C++ pytree support is disabled. Please consider upgrading optree using `python3 -m pip install --upgrade 'optree>=0.13.0'`.\n",
      "  warnings.warn(\n"
     ]
    }
   ],
   "execution_count": 1
  },
  {
   "metadata": {
    "ExecuteTime": {
     "end_time": "2025-03-05T16:40:31.866170Z",
     "start_time": "2025-03-05T16:40:31.133021Z"
    }
   },
   "cell_type": "code",
   "source": [
    "# Download WordNet if not already downloaded\n",
    "nltk.download(\"wordnet\")"
   ],
   "id": "d1d6c38e5b247e15",
   "outputs": [
    {
     "name": "stderr",
     "output_type": "stream",
     "text": [
      "[nltk_data] Downloading package wordnet to\n",
      "[nltk_data]     /Users/snehaagarwal/nltk_data...\n",
      "[nltk_data]   Package wordnet is already up-to-date!\n"
     ]
    },
    {
     "data": {
      "text/plain": [
       "True"
      ]
     },
     "execution_count": 2,
     "metadata": {},
     "output_type": "execute_result"
    }
   ],
   "execution_count": 2
  },
  {
   "metadata": {
    "ExecuteTime": {
     "end_time": "2025-03-05T16:40:36.879891Z",
     "start_time": "2025-03-05T16:40:35.758813Z"
    }
   },
   "cell_type": "code",
   "source": "nlp = spacy.load(\"en_core_web_sm\")",
   "id": "c7db30dc4162d9dd",
   "outputs": [],
   "execution_count": 3
  },
  {
   "metadata": {
    "ExecuteTime": {
     "end_time": "2025-03-05T16:40:36.912879Z",
     "start_time": "2025-03-05T16:40:36.903164Z"
    }
   },
   "cell_type": "code",
   "source": [
    "# Seed words (we fetch synonyms dynamically)\n",
    "SEED_HIGH_PRIORITY = [\"urgent\", \"important\", \"critical\", \"necessary\", \"essential\", \"immediately\"]\n",
    "SEED_MEDIUM_PRIORITY = [\"quick\", \"soon\", \"this week\", \"next few days\", \"moderate\", \"prompt\"]\n",
    "SEED_LOW_PRIORITY = [\"not a priority\", \"low preference\", \"whenever\", \"someday\", \"optional\"]\n"
   ],
   "id": "f09da2ef3c946a1",
   "outputs": [],
   "execution_count": 4
  },
  {
   "metadata": {
    "ExecuteTime": {
     "end_time": "2025-03-05T16:40:42.534481Z",
     "start_time": "2025-03-05T16:40:42.520193Z"
    }
   },
   "cell_type": "code",
   "source": [
    "def get_synonyms(seed_words):\n",
    "    \"\"\"Fetches synonyms for the given words using WordNet (NLTK).\"\"\"\n",
    "    synonyms = set()\n",
    "    for word in seed_words:\n",
    "        for syn in wn.synsets(word):\n",
    "            for lemma in syn.lemmas():\n",
    "                synonyms.add(lemma.name().replace(\"_\", \" \"))  # Convert underscores to spaces\n",
    "    return synonyms"
   ],
   "id": "70c9d5299f1fc1c1",
   "outputs": [],
   "execution_count": 5
  },
  {
   "metadata": {
    "ExecuteTime": {
     "end_time": "2025-03-05T16:40:50.516865Z",
     "start_time": "2025-03-05T16:40:50.463467Z"
    }
   },
   "cell_type": "code",
   "source": [
    "# Dynamically fetched synonyms\n",
    "HIGH_PRIORITY_WORDS = get_synonyms(SEED_HIGH_PRIORITY)\n",
    "MEDIUM_PRIORITY_WORDS = get_synonyms(SEED_MEDIUM_PRIORITY)\n",
    "LOW_PRIORITY_WORDS = get_synonyms(SEED_LOW_PRIORITY)"
   ],
   "id": "96cdc45ddd407038",
   "outputs": [],
   "execution_count": 6
  },
  {
   "metadata": {
    "ExecuteTime": {
     "end_time": "2025-03-05T16:41:04.493065Z",
     "start_time": "2025-03-05T16:41:04.483451Z"
    }
   },
   "cell_type": "code",
   "source": [
    "def extract_deadline(task_description):\n",
    "    \"\"\"Extracts deadline from task description using NLP & dateparser\"\"\"\n",
    "    doc = nlp(task_description)\n",
    "    \n",
    "    for ent in doc.ents:\n",
    "        if ent.label_ == \"DATE\":\n",
    "            return dateparser.parse(ent.text)  # Convert natural text to a date\n",
    "\n",
    "    return None  # No deadline found\n"
   ],
   "id": "db1347f6a2a7c84e",
   "outputs": [],
   "execution_count": 7
  },
  {
   "metadata": {
    "ExecuteTime": {
     "end_time": "2025-03-05T16:41:13.290103Z",
     "start_time": "2025-03-05T16:41:13.274992Z"
    }
   },
   "cell_type": "code",
   "source": [
    "def lemmatize_task(task_description):\n",
    "    \"\"\"Converts task words into their base form using spaCy Lemmatization\"\"\"\n",
    "    doc = nlp(task_description.lower())  # Convert to lowercase and process\n",
    "    lemmatized_words = {token.lemma_ for token in doc}  # Extract unique lemmas\n",
    "    return lemmatized_words"
   ],
   "id": "1180d7e361391c94",
   "outputs": [],
   "execution_count": 8
  },
  {
   "metadata": {
    "ExecuteTime": {
     "end_time": "2025-03-05T16:41:23.847643Z",
     "start_time": "2025-03-05T16:41:23.832715Z"
    }
   },
   "cell_type": "code",
   "source": [
    "def determine_priority_based_on_keywords(task_description):\n",
    "    \"\"\"Assigns priority based on lemmatized urgency words if no deadline is mentioned\"\"\"\n",
    "    lemmatized_words = lemmatize_task(task_description)\n",
    "\n",
    "    if HIGH_PRIORITY_WORDS & lemmatized_words:  # If any high-priority words are found\n",
    "        return \"High\"\n",
    "    elif MEDIUM_PRIORITY_WORDS & lemmatized_words:\n",
    "        return \"Medium\"\n",
    "    elif LOW_PRIORITY_WORDS & lemmatized_words:\n",
    "        return \"Low\"\n",
    "    else:\n",
    "        return \"Low\"  # Default if no clear priority words are found"
   ],
   "id": "1f57ad66b1ef01ad",
   "outputs": [],
   "execution_count": 9
  },
  {
   "metadata": {
    "ExecuteTime": {
     "end_time": "2025-03-05T16:41:41.349436Z",
     "start_time": "2025-03-05T16:41:41.312577Z"
    }
   },
   "cell_type": "code",
   "source": [
    "def assign_priority(task_description):\n",
    "    \"\"\"Determines priority based on deadline (if available) or lemmatized keywords\"\"\"\n",
    "    deadline = extract_deadline(task_description)\n",
    "\n",
    "    if deadline:  # If a deadline exists, calculate priority based on days left\n",
    "        days_left = (deadline - datetime.now()).days\n",
    "\n",
    "        if days_left <= 0:\n",
    "            return \"High\"\n",
    "        elif days_left <= 2:\n",
    "            return \"High\"\n",
    "        elif days_left <= 5:\n",
    "            return \"Medium\"\n",
    "        else:\n",
    "            return \"Low\"\n",
    "    else:\n",
    "        return determine_priority_based_on_keywords(task_description)  # Use dynamically fetched priority words"
   ],
   "id": "9d0b82d707fdf41a",
   "outputs": [],
   "execution_count": 10
  },
  {
   "metadata": {
    "ExecuteTime": {
     "end_time": "2025-03-06T06:32:07.873219Z",
     "start_time": "2025-03-06T06:32:07.824965Z"
    }
   },
   "cell_type": "code",
   "source": [
    "# Example tasks\n",
    "tasks = [\n",
    "    \"Submit project by March 5\",  # Deadline case\n",
    "    \"Fix critical server issue\",  # \"Critical\" → Should be High\n",
    "    \"This task is essential\",  # \"Essential\" → Should be High\n",
    "    \"Quickly done this work on time.\",  # \"Quickly\" → Should be Medium\n",
    "    \"Take a vacation whenever\",  # \"Whenever\" → Should be Low\n",
    "    \"Prepare presentation for next Monday\",\n",
    "    \"Plan vacation next month\",\n",
    "    \"Schedule a meeting sometime\",  # No priority keyword → Default Low\n",
    "    \"Handle an indispensable update\",  # \"Indispensable\" → Should be High (synonym of Important)\n",
    "    \"Fix an imperative bug immediately!\",  # \"Imperative\" → High (synonym of Critical)\n",
    "    \"Complete this optional review\",  # \"Optional\" → Should be Low\n",
    "]"
   ],
   "id": "34613b69f2556369",
   "outputs": [],
   "execution_count": 14
  },
  {
   "metadata": {
    "ExecuteTime": {
     "end_time": "2025-03-06T06:32:10.915796Z",
     "start_time": "2025-03-06T06:32:08.505044Z"
    }
   },
   "cell_type": "code",
   "source": [
    "# Process tasks\n",
    "task_data = []\n",
    "for task in tasks:\n",
    "    priority = assign_priority(task)\n",
    "\n",
    "    task_data.append({\n",
    "        \"Task\": task,\n",
    "        \"Priority\": priority\n",
    "    })\n"
   ],
   "id": "9e3cc9488c28a722",
   "outputs": [],
   "execution_count": 15
  },
  {
   "metadata": {
    "ExecuteTime": {
     "end_time": "2025-03-06T06:32:19.167946Z",
     "start_time": "2025-03-06T06:32:19.146694Z"
    }
   },
   "cell_type": "code",
   "source": [
    "# Convert to DataFrame (for frontend display)\n",
    "df = pd.DataFrame(task_data)\n",
    "print(df)"
   ],
   "id": "53ca739eabbe116c",
   "outputs": [
    {
     "name": "stdout",
     "output_type": "stream",
     "text": [
      "                                    Task Priority\n",
      "0              Submit project by March 5     High\n",
      "1              Fix critical server issue     High\n",
      "2                 This task is essential     High\n",
      "3        Quickly done this work on time.   Medium\n",
      "4               Take a vacation whenever      Low\n",
      "5   Prepare presentation for next Monday      Low\n",
      "6               Plan vacation next month      Low\n",
      "7            Schedule a meeting sometime      Low\n",
      "8         Handle an indispensable update     High\n",
      "9     Fix an imperative bug immediately!     High\n",
      "10         Complete this optional review      Low\n"
     ]
    }
   ],
   "execution_count": 16
  },
  {
   "metadata": {},
   "cell_type": "code",
   "outputs": [],
   "execution_count": null,
   "source": "",
   "id": "ffaaba874295c56c"
  }
 ],
 "metadata": {
  "kernelspec": {
   "display_name": "Python 3",
   "language": "python",
   "name": "python3"
  },
  "language_info": {
   "codemirror_mode": {
    "name": "ipython",
    "version": 2
   },
   "file_extension": ".py",
   "mimetype": "text/x-python",
   "name": "python",
   "nbconvert_exporter": "python",
   "pygments_lexer": "ipython2",
   "version": "2.7.6"
  }
 },
 "nbformat": 4,
 "nbformat_minor": 5
}
