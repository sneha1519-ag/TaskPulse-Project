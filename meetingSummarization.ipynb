{
 "cells": [
  {
   "metadata": {},
   "cell_type": "markdown",
   "source": "Convert Meeting Audio to Text",
   "id": "4c68b8443dc843f0"
  },
  {
   "cell_type": "code",
   "id": "initial_id",
   "metadata": {
    "collapsed": true,
    "ExecuteTime": {
     "end_time": "2025-03-05T16:20:09.291585Z",
     "start_time": "2025-03-05T16:20:00.755333Z"
    }
   },
   "source": "import whisper",
   "outputs": [
    {
     "name": "stderr",
     "output_type": "stream",
     "text": [
      "/Library/Frameworks/Python.framework/Versions/3.12/lib/python3.12/site-packages/torch/utils/_pytree.py:185: FutureWarning: optree is installed but the version is too old to support PyTorch Dynamo in C++ pytree. C++ pytree support is disabled. Please consider upgrading optree using `python3 -m pip install --upgrade 'optree>=0.13.0'`.\n",
      "  warnings.warn(\n"
     ]
    }
   ],
   "execution_count": 1
  },
  {
   "metadata": {
    "ExecuteTime": {
     "end_time": "2025-03-05T16:23:53.057999Z",
     "start_time": "2025-03-05T16:20:15.995768Z"
    }
   },
   "cell_type": "code",
   "source": "model = whisper.load_model(\"base\")  # Choose 'tiny', 'base', 'small', 'medium', or 'large'",
   "id": "faf3aa896c97fed8",
   "outputs": [
    {
     "name": "stderr",
     "output_type": "stream",
     "text": [
      "100%|████████████████████████████████████████| 139M/139M [03:31<00:00, 687kiB/s]\n"
     ]
    }
   ],
   "execution_count": 2
  },
  {
   "metadata": {
    "ExecuteTime": {
     "end_time": "2025-03-05T17:03:46.038456Z",
     "start_time": "2025-03-05T16:58:54.672354Z"
    }
   },
   "cell_type": "code",
   "source": "result = model.transcribe(\"videoplayback.mp4\")",
   "id": "cb18aaaca50cfa7",
   "outputs": [
    {
     "name": "stderr",
     "output_type": "stream",
     "text": [
      "/Library/Frameworks/Python.framework/Versions/3.12/lib/python3.12/site-packages/whisper/transcribe.py:126: UserWarning: FP16 is not supported on CPU; using FP32 instead\n",
      "  warnings.warn(\"FP16 is not supported on CPU; using FP32 instead\")\n"
     ]
    }
   ],
   "execution_count": 6
  },
  {
   "metadata": {
    "ExecuteTime": {
     "end_time": "2025-03-06T05:30:14.078729Z",
     "start_time": "2025-03-06T05:30:14.047805Z"
    }
   },
   "cell_type": "code",
   "source": "print(result[\"text\"])",
   "id": "307a91f35904b4f1",
   "outputs": [
    {
     "name": "stdout",
     "output_type": "stream",
     "text": [
      " پیشہ لے 10 سالوں میں میں نے بہت سالی پیسے کمہ ہے فب دوگلگ میں سے آہاں کورسیز بیچ کر نہیں ایک چلکلائنٹ کی ویبسیٹس پر آکے ایتنے سالوں میں نے ایک چیس سے سیک لیے کہ اگر آپ لوگ کو سیتری کے پتے چل جائیں تو آپ آدی منت میں 10 ایک چیزے اچیف کر سکتے ہیں کافی مست کنسبشن سے Drong Advises سے فب دوگلگلگلگ کے جو کیس فیڈیو میں کلیت کرنے والا کسکت 20 25 کے کنتکسٹ میں جو آپ کا کیا راستہ 20 25 میں اور کیا Trends Change Honest والے سب کی ابنو پات کریں گے اور کیا آپ کا پروچھے چی ویب بڑپنڈگر آپ کو سیکنا چاہتے تھے This is a no-bis WAP Development Road WAP 1 25 اب سب سے فیڑے میں بات کرنا چاہتے ہیں but not to learn آپ لوگ کو Boots Trap نہیں سیکنا ہے اوائد کرنا ہے تو رہا کیا بBoots Trap ایک کافی پرانی ٹکنال جی جیکوری کو اوائد کرنا ہے جیکوری بھی کافی پرانی ٹکنال جی چکی کیا کیا کیا کیا کیا کیا کیا کیا کاف دوگرگی لیکن کوئی اویز نہیں کرتا کیا کیا کیا کیا کیا کیا کیا کیا کیا کیا کیا کیا کیا کیا کیا کیا کیا کیا کیا کیا کیا کیا کیا کیا کیا کیا کیا کیا کیا کیا کیا کیا کیا کیا کیا کیا کیا کیا کیا کیا کیا کیا کیا کیا کیا کیا کیا کیا کیا کیا کیا کیا کیا کیا کیا کیا کیا کیا کیا کیا کیا کیا کیا کیا کیا کیا کیا کیا کیا کیا کیا کیا کیا کیا کیا کیا کیا کیا کیا کیا کیا کیا کیا کیا کیا کیا کیا کیا کیا کیا کیا کیا کیا کیا کیا کیا کیا کیا کیا کیا کیا کیا کیا کیا کیا کیا کیا کیا کیا کیا کی کیا کیا کیا کیا کیا کیا کیا کیا کیا کیا کیا کیا کیا کیا کیا کیا کیا کیا کیا کیا کیا کیا کیا کیا کیا کیا کیا کیا کیا کیا کیا کیا کیا کیا کیا کیا کیا کیا کیا کیا کیا کیا کیا کیا کیا کیا کیا کیا کیا کیا کیا کیا کیا کیا کیا کیا کیا کیا کیا کیا کیا کیا کیا کیا کیا کیا کیا کیا کیا کیا کیا کیا کیا کیا کیا کیا کیا کیا کیا کیا کیا کیا کیا کیا کیا کیا کیا کیا کیا کیا کیا کیا کیا کیا کیا کیا کیا کیا کیا کیا کیا کیا کیا کیا کیا کیا کیا کیا کیا کیا کی کیا کیا کیا کیا کیا کیا کیا کیا کیا کیا کیا کیا کیا کیا کیا کیا کیا کیا کیا کیا کیا کیا کیا کیا کیا کیا کیا کیا کیا کیا کیا کیا کیا کیا کیا کیا کیا کیا کیا کیا کیا کیا کیا کیا کیا کیا کیا کیا کیا کیا کیا کیا کیا کیا کیا کیا کیا کیا کیا کیا کیا کیا کیا کیا کیا کیا کیا کیا کیا کیا کیا کیا کیا کیا کیا کیا کیا کیا کیا کیا کیا کیا کیا کیا کیا کیا کیا کیا کیا کیا کیا کیا کیا کیا کیا کیا کیا کیا کیا کیا کیا کیا کیا کیا کیا کیا کیا کیا کیا کیا کی کیا کیا کیا کیا کیا کیا کیا کیا کیا کیا کیا کیا کیا کیا کیا کیا کیا کیا کیا کیا کیا کیا کیا کیا کیا کیا کیا کیا کیا کیا کیا کیا کیا کیا کیا کیا کیا کیا کیا کیا کیا کیا کیا کیا کیا کیا کیا کیا کیا کیا کیا کیا کیا کیا کیا کیا کیا کیا کیا کیا کیا کیا کیا کیا کیا کیا کیا کیا کیا کیا کیا کیا کیا کیا کیا کیا کیا کیا کیا کیا کیا کیا کیا کیا کیا کیا کیا کیا کیا کیا کیا کیا کیا کیا کیا کیا کیا کیا کیا کیا کیا کیا کیا کیا کیا کیا کیا کیا کیا کیا کی کیا کیا کیا کیا کیا کیا کیا کیا کیا کیا کیا کیا کیا کیا کیا کیا کیا کیا کیا کیا کیا کیا کیا کیا کیا کیا کیا کیا کیا کیا کیا کیا کیا کیا کیا کیا کیا کیا کیا کیا کیا کیا کیا کیا کیا کیا کیا کیا کیا کیا کیا کیا کیا کیا کیا کیا کیا کیا کیا کیا کیا کیا کیا کیا کیا کیا کیا کیا کیا کیا کیا کیا کیا کیا کیا کیا کیا کیا کیا کیا کیا کیا کیا کیا کیا کیا کیا کیا کیا کیا کیا کیا کیا کیا کیا کیا کیا کیا کیا کیا کیا کیا کیا کیا کیا کیا کیا کیا کیا کیا کی CSS میں aigüое boutaki ngatom end kayob nato pedropa mil outputs y Z undcka allowing scroll autonomous undergraduate کا promises ہو گیا, ki shtena se event loop kaam ghar tha ki shtena se java script ke anther async rohna s programming ho tiyay, kya se ek function ko async vana hai jata hai ye sadi chis aap loho se pochi jati hai shtena ki sade koncepta ka nab kawar tiyay to easili aap loho intervieu krag ka loho ki mene se boh saare web development ke interviews de kye in jis mi ki HTML CSS na hi poo sha jata hai java script pochi jati hai bhas to ha java script ka ek bhaod aam rohli aap ka interview krag ka rwa ne mene aap ek baar aap loho na HTML thodi CSS on java script seek hi to aap lohk bana ho for unt and level ke project jis mi ki aap lohge HTML CSS java script de us kar ke kye kku sha basic aur useful bana hoge kya se kye aap ek calculator bana ho aap ek alam klok bana ho ek simpel sik log hi bana ho aap bana ho ek tik tak to ka game aap bana ho kku sha aap kye aap jok ki aap kye data ko store karti hai using local storage jok ki java script ka koncepta hai kuch paada kha hai bhas sa meh sigma web development course meh to sko aap lohge kye bhaod access kar le nakao web development seeg nao chaathe ho abh kye kye bhaod me aap lohge kye kungwa CSS ka ek framework seek loh meh raka meh doko aap tail wind CSS ko tail wind CSS kuch nahye kuch klaasas hoti hai jok ki aap lohge HTML ke annal directly lhaasak teo meh ne web development kye aap ne jose sigma web development course heo saos meh sa pkhe kye batar aag hai baap lohge kye aap ek idea de ron jose tail wind CSS hai wo directly CSS kye property s ko klaasas kye tero likne ka tadeek hao tha all most sadi properties aap liksak teo aur customais hothi haap matlam aap tail wind meh customisations katsak teo boh saare aap tail wind sapsa popular CSS ka framework heo to aap lohge kye tadeek meh industri motanne ki shojne hothi tail wind CSS seek nao untay nal e s aap kebhas kuch aur seek nao ka kye aap chaathe rizan nao me aap keo paar boh saare technologies bombaad nai kye bhi sik lohge bhi sik lohge kye sik nao heo ki sik nao heo ki aap lohge kye aap nao aap kuch time limited sap kebhas tail wind sik loh aap aap da CSS framework heo aap baat karte aim back end ki ek sub se badi galti jogi lohge karte na back end sik te waktu ho kye tia hatham nex CSS meh aap kare leh hatham kye frame back kare leh jangloh kare leh aap kare leh aap bhai sabse bhai bhai aap agad javascript sik kare aap ho aap kye bhaat kye bhaat kye rizan nao heo kuch aur back end sik nao ka to aap node js koseek ho node js ke saat express ko sik ho meh ne yeh yeh yeh approach liye aap kne sik ma web development course me aap lohge kye sap kuch leh meh deli ho kye aap node js koseek te wata aap lohge kwa aap kulaa kulaa kulaa kulaa kulaa kulaa kulaa kulaa kulaa kulaa kulaa kulaa kulaa kulaa kulaa kulaa kulaa kulaa kulaa kulaa kulaa kulaa kulaa kulaa kulaa kulaa kulaa kulaa kulaa kulaa kulaa kulaa kulaa kulaa kulaa kulaa kulaa kulaa kulaa kulaa kulaa kulaa kulaa kulaa kulaa kulaa kulaa kulaa kulaa kulaa kulaa kulaa kulaa kulaa kulaa kulaa kulaa kulaa kulaa kulaa kulaa kulaa kulaa kulaa kulaa kulaa kulaa kulaa kulaa kulaa kulaa kulaa kulaa kulaa kula visa kulaa kulaa Apt consecutców be borrowers B matter ORM, but MongoDB, you can learn it in the end, and once you've done it, you'll be able to do full-stack web developer. React, MongoDB, HTML, JavaScript, Tailwind, you can use it in both apps, React, Wheat, you can make it in Sigma web development course. Abhisi ke saasat aap lugu ko yuz kar rai ko chhe ase tools ko jo ki aapke developer experience ko bhaayin ke. For example, klark nam ka ek tool hai jo ki aap lugu ko yuzar othentication mein help kar ega. Aap lugu aap na yuzar othentication mein aayin ke to aap lugu ko kafi time loc jai ka. Sikil klark, es plomblub ko solb kar tai. Bhisi ke li ho ta gai ki jab aap react maya na ek JS mein klark ka is temal kar tain to ek problem jo ki aapke buri website ke. Vua out of the box solb ho kar aap ko mil jati hai. Aapke saar iyuzars, kub kwan sa iyuzar ko kye sa login kar anais ki saar iyutinity functions aap lugu ko klark mein dhigne ko bil tain. Aap lugu aap ne aap saisey na hi baayin aap fin load bhaar zada aap ki aap mein aap kye aap break ho jati hai. To kamsa ka mo jo sabse kritikal part hai, aap hodentication aapke iyuzars ka data wo safe rai ga. Klark aap lugu ko prebuilt components de taita jo ki aap lugu ko saina, login aap, or user ka jo account spesia wo bhaar na me help kutin. Developer experience ki baat karun to klark bhaar zada aap. Aap sabse bhaar zada aap kye aap baat klark mein dhigne ko bhaar zada aap. Aap lugu aap na na hi baat klark mein dhigne ko bhaar zada aap. Aap u se zada bhaar zada aap na hi baat klark mein dhigne ko bhaar zada aap. Aap u se zada bhaar zada aap na hi baat klark mein dhigne ko bhaar zada aap. Aap u se zada bhaar zada aap na hi baat klark mein dhigne ko bhaar zada aap. Aap u se zada bhaar zada aap na hi baat klark mein dhigne ko bhaar zada aap. Aap u se zada bhaar zada aap na hi baat klark mein dhigne ko bhaar zada aap. Aap u se zada bhaar zada aap na hi baat klark mein dhigne ko bhaar zada aap. Aap u se zada bhaar zada aap na hi baat klark mein dhigne ko bhaar zada aap. Aap u se zada bhaar zada aap. Aap u se zada bhaar zada aap. Aap u se zada bhaar zada aap. Aap u se zada bhaar zada aap. Aap u se zada bhaar zada aap. Aap u se zada bhaar zada aap. Aap u se zada bhaar zada aap. Aap u se zada bhaar zada aap. Aap u se zada bhaar zada aap. Aap u se zada bhaar zada aap. Aap u se zada bhaar zada aap. Aap u se zada bhaar zada aap. Aap u se zada bhaar zada aap. Aap u se zada bhaar zada aap. Aap u se zada bhaar zada aap. Aap u se zada bhaar zada aap. Aap u se zada bhaar zada aap. Aap u se zada bhaar zada aap. Aap u se zada bhaar zada aap. Aap u se zada bhaar zada aap. Aap u se zada bhaar zada aap. Aap u se zada bhaar zada aap. Aap u se zada bhaar zada aap. Aap u se zada bhaar zada aap. Aap u se zada bhaar zada bhaar zada bhaar zada bhaar zada bhaar zada bhaar zada bhaar zada bhaar zada bhaar zada bhaar zada bhaar zada bhaar zada bhaar zada bhaar zada bhaar zada bhaar zada bhaar zada bhaar zada bhaar zada bhaar zada bhaar zada bhaar zada bhaar zada bhaar zada bhaar zada bhaar zada bhaar zada bhaar zada bhaar zada bhaar zada bhaar zada bhaar zada bhaar zada bhaar zada bhaar zada bhaar zada bhaar zada bhaar zada bhaar zada bhaar zada bhaar zada bhaar zada bhaar zada میں ایک ہی آپ کے بس کلیبلیٹی ایک بہت بڑھڑ آیشوے تو آپ لو پوز کرے سیکل یا مای سیکل کا استعمال کرتے ہیں احش کی طرح میں مغوڑی بی سے بھی وہ ساری چیزے ہو جاتی ہیں اور مغوڑی بھی کافی سیکلیبل ہے بڑھ again کبھی آپ لوگوں کو سیکل بھی سیکنہ پڑھ سکتا ہے کرے کسی کو آرکنیزیشن میں اپلکیشن سیکل میں لگی ہے پڑ میں کہوں گا مغوڑی بھی سیکو سیکل کو تو آپ کو سیکلی بھی سیکلی ہے اب اس کے بعد میں بات کرنا چاہتا ہوں کچھ مستھ نو ٹیکنال جیس کے بارے میں سب سے پہلی ہے ٹیپ سکریپ ٹیپ سکریپ کیا ہوتا ہے دیکھو جاوہ سکریپ جو ہم یوز کرتے ہیں تو جاوہ سکریپ کیا ہم تر بہت سرہ انڈسپلیں لیے لوگوں جس کہ آپ لوگ ایک ویریبل کو اسائن کر سکتے ہیں ایک نمبر اور اس کے بعد آپ ایک سٹرینگ اسائن کر دو گے اس کو پہت اس طنح کا انڈسپلیں جاوہ سکریپٹ کو بائی دزائن بنائے گئے ایسا اس لیے آتا ہے تو جاوہ سکریپٹ کو بائی دزائنے سا کیوں بنائے گئے کیا جاوہ سکریپٹروں ہوتی تھی ایک براوزر میں اپرانی لکیوی جاوہ سکریپٹ جو ہے وہ ابگیٹی براوزر اس میں رہا نہیں ہوتی اگر ہم لوگ جاوہ سکریپٹ کوئی ایسے بہتی ایکیریٹلی اپگیٹ کرتے تو اسی لیے جاوہ سکریپٹ کے سارے ورجنز اچھی طرح سے چلپائی براوزر میں اسی لیے جاوہ سکریپٹ کوشش کرتے گیا ایررٹھ رو نہ کرے زیادہ آپ کے فنشن کو روکے نا پارس کر دے سب کچھ اور جاوہ سکریپٹ بائی دزائن ایسی بنائے گئے کی اس میں بہت سائی چیزیں پوزیگلوں پاکھیں جو کی انٹیشنل بگس اپ کی اپلیگیشن میں انڈیوز کر سکریپٹی ہے اسی لیے بنائے گئی ٹیپسٹریپٹ جس میں ٹیپسیپٹی ہوتی ہے یعنی کی وہ کوششٹریٹ روز ان پورس کرتی آپ لوگوں کے لئے کی آپ نے اگر ایک پڑکلہ وریبال بنا دیا اس کے اندر آپ نے نمبر دالیتے وہ مبسکنگزٹریگ نہیں دال سکریپٹی اور ایسا ہونہ بھی چیئے کیوں کیوں کیوں کیوں کیوں کیوں کیوں کیوں کیوں کیوں کیوں کیوں کیوں کیوں کیوں کیوں کیوں کیوں کیوں کیوں کیوں کیوں کیوں کیوں کیوں کیوں کیوں کیوں کیوں کیوں کیوں کیوں کیوں کیوں کیوں کیوں کیوں کیوں کیوں کیوں کیوں کیوں کیوں کیوں کیوں کیوں کیوں کیوں کیوں کیوں کیوں کیوں کیوں کیوں کیوں کیوں کیوں کیوں کیوں کیوں کیوں کیوں کیوں کیوں کیوں کیوں کیوں کیوں کیوں کیوں کیوں کیوں کیوں کیوں کیوں کیوں کیوں کیوں کیوں کیوں کیوں کیوں کیوں کیوں کیوں کیوں کیوں کیوں کیوں کیوں کیوں کیوں کیوں کیوں کیوں کیوں کیوں کیوں کیوں کیوں کیوں کیوں کیوں کیوں کیوں کیوں کیوں کیوں کیوں کیوں کی کی کی کی کی کی کی کی کی کی کی کی کی کی کی کی کی کی کی کی کی کی کی کی کی کی کی کی کی کی کی کی کی کی کی کی کی کی کی کی کی کی کی کی کی کی کی کی کی کی کی کی کی کی کی کی کی کی کی کی کی کی کی کی کی کی کی کی کی کی کی کی کی کی کی کی کی کی کی کی کی کی کی کی کی کی کی کی کی کی کی کی کی کی کی کی کی کی کی کی کی کی کی کی کی کی کی کی کی کی کی کی کی کی کی کی کی کی کی کی کی کی کی کی کی کی کی کی کی کی کی کی کی کی کی کی کی کی کی کی کی کی کی کی کی کی کی کی کی کی کی کی کی کی کی کی کی کی کی کی کی کی کی کی کی کی کی کی کی کی کی کی کی کی کی کی کی کی کی کی کی کی کی کی کی کی کی کی کی کی کی کی کی کی کی کی کی کی کی کی کی کی کی کی کی کی کی کی کی کی کی کی کی کی کی کی کی کی کی کی کی کی کی کی کی کی کی کی کی کی کی کی کی کی کی کی کی کی کی کی کی کی کی کی کی کی کی کی کی کی کی کی کی کی کی کی کی کی کی کی کی کی کی کی کی کی کی کی کی کی کی کی کی کی کی کی کی کی کی کی کی کی کی کی کی کی کی کی کی کی کی کی کی کی کی کی کی کی کی کی کی کی کی کی کی کی کی کی کی کی کی کی کی کی کی کی کی کی کی کی کی کی کی کی کی کی کی کی کی کی کی کی کی کی کی کی کی کی کی کی کی کی کی کی کی کی کی کی کی کی کی کی کی کی کی کی کی کی کی کی کی کی کی کی کی کی کی کی کی کی کی کی کی کی کی کی کی کی کی کی کی کی کی کی کی کی کی کی کی کی کی کی کی کی کی کی کی کی کی کی کی کی کی کی کی کی کی کی کی کی کی کی کی کی کی کی کی کی کی کی کی کی کی کی کی کی کی کی کی کی کی کی کی کی کی کی کی کی کی کی کی کی کی کی کی کی کی کی کی کی کی کی کی کی کی کی کی کی کی کی کی کی کی کی کی کی کی کی کی کی کی کی کی کی کی کی کی کی کی کی کی کی کی کی کی کی کی کی کی کی کی کی کی کی کی کی کی کی کی کی کی کی کی کی کی کی کی کی کی کی کی کی کی کی کی کی کی کی کی کی کی کی کی کی کی کی کی کی کی کی کی کی کی کی کی کی کی کی کی کی کی کی کی کی کی کی کی کی کی کی کی کی کی کی کی کی کی کی کی کی کی کی کی کی کی کی کی کی کی کی کی کی کی کی کی کی کی کی کی کی کی کی کی کی کی کی کی کی کی کی کی کی کی کی کی کی کی کی کی کی کی کی کی کی کی کی کی کی کی کی کی کی کی کی کی کی کی کی کی کی کی کی کی کی کی کی کی کی کی کی کی کی کی کی کی کی کی کی کی کی کی کی کی کی کی کی کی کی کی کی کی کی کی کی کی کی کی کی کی کی کی کی کی کی کی کی کی کی کی کی کی کی کی کی کی کی کی کی کی کی کی کی کی کی کی کی کی کی کی کی کی کی کی کی کی کی کی کی کی کی کی کی کی کی کی کی کی کی کی کی کی کی کی کی کی کی کی کی کی کی کی کی کی کی کی کی کی کی کی کی کی کی کی کی کی کی کی کی کی کی کی کی کی کی کی کی کی کی کی کی کی کی کی کی کی کی کی کی کی کی کی کی کی کی کی کی کی کی کی کی کی کی کی کی کی کی کی کی کی کی کی کی کی کی کی کی کی کی کی کی کی کی کی کی کی کی کی کی کی کی کی کی کی کی کی کی کی کی کی کی کی کی کی کی کی کی کی کی کی کی کی کی کی کی کی کی کی کی کی کی کی کی کی کی کی کی کی کی کی کی کی کی کی کی کی کی کی کی کی کی کی کی کی کی کی کی کی کی کی کی کی کی کی کی کی کی کی کی کی کی کی کی کی کی کی کی کی کی کی کی کی کی کی کی کی\n"
     ]
    }
   ],
   "execution_count": 7
  },
  {
   "metadata": {},
   "cell_type": "markdown",
   "source": "Preprocessing Example",
   "id": "e604d525948c2bb4"
  },
  {
   "metadata": {
    "ExecuteTime": {
     "end_time": "2025-03-06T05:37:33.391497Z",
     "start_time": "2025-03-06T05:37:33.379955Z"
    }
   },
   "cell_type": "code",
   "source": "audio_text = result[\"text\"]",
   "id": "78e6a236055b29c8",
   "outputs": [],
   "execution_count": 14
  },
  {
   "metadata": {
    "ExecuteTime": {
     "end_time": "2025-03-06T05:37:34.932079Z",
     "start_time": "2025-03-06T05:37:34.929252Z"
    }
   },
   "cell_type": "code",
   "source": "import re",
   "id": "6da47be40111126a",
   "outputs": [],
   "execution_count": 15
  },
  {
   "metadata": {
    "ExecuteTime": {
     "end_time": "2025-03-06T05:37:35.381190Z",
     "start_time": "2025-03-06T05:37:35.377432Z"
    }
   },
   "cell_type": "code",
   "source": [
    "def clean_transcript(text):\n",
    "    \"\"\"Cleans up meeting transcript.\"\"\"\n",
    "    text = re.sub(r\"\\b(um|uh|you know|like)\\b\", \"\", text, flags=re.IGNORECASE)  # Remove filler words\n",
    "    text = re.sub(r\"\\s+\", \" \", text).strip()  # Remove extra spaces\n",
    "    return text"
   ],
   "id": "81e63fdad3ed0862",
   "outputs": [],
   "execution_count": 16
  },
  {
   "metadata": {
    "ExecuteTime": {
     "end_time": "2025-03-06T05:32:18.362890Z",
     "start_time": "2025-03-06T05:32:18.356042Z"
    }
   },
   "cell_type": "code",
   "source": "transcript = \"Um, today we discussed the project. You know, we need to finish it soon.\"",
   "id": "db76ab9b00d639de",
   "outputs": [],
   "execution_count": 10
  },
  {
   "metadata": {
    "ExecuteTime": {
     "end_time": "2025-03-06T05:37:45.509582Z",
     "start_time": "2025-03-06T05:37:45.498037Z"
    }
   },
   "cell_type": "code",
   "source": [
    "cleaned_transcript = clean_transcript(audio_text)\n",
    "print(cleaned_transcript)"
   ],
   "id": "4451198dfdae9342",
   "outputs": [
    {
     "name": "stdout",
     "output_type": "stream",
     "text": [
      "پیشہ لے 10 سالوں میں میں نے بہت سالی پیسے کمہ ہے فب دوگلگ میں سے آہاں کورسیز بیچ کر نہیں ایک چلکلائنٹ کی ویبسیٹس پر آکے ایتنے سالوں میں نے ایک چیس سے سیک لیے کہ اگر آپ لوگ کو سیتری کے پتے چل جائیں تو آپ آدی منت میں 10 ایک چیزے اچیف کر سکتے ہیں کافی مست کنسبشن سے Drong Advises سے فب دوگلگلگلگ کے جو کیس فیڈیو میں کلیت کرنے والا کسکت 20 25 کے کنتکسٹ میں جو آپ کا کیا راستہ 20 25 میں اور کیا Trends Change Honest والے سب کی ابنو پات کریں گے اور کیا آپ کا پروچھے چی ویب بڑپنڈگر آپ کو سیکنا چاہتے تھے This is a no-bis WAP Development Road WAP 1 25 اب سب سے فیڑے میں بات کرنا چاہتے ہیں but not to learn آپ لوگ کو Boots Trap نہیں سیکنا ہے اوائد کرنا ہے تو رہا کیا بBoots Trap ایک کافی پرانی ٹکنال جی جیکوری کو اوائد کرنا ہے جیکوری بھی کافی پرانی ٹکنال جی چکی کیا کیا کیا کیا کیا کیا کیا کیا کاف دوگرگی لیکن کوئی اویز نہیں کرتا کیا کیا کیا کیا کیا کیا کیا کیا کیا کیا کیا کیا کیا کیا کیا کیا کیا کیا کیا کیا کیا کیا کیا کیا کیا کیا کیا کیا کیا کیا کیا کیا کیا کیا کیا کیا کیا کیا کیا کیا کیا کیا کیا کیا کیا کیا کیا کیا کیا کیا کیا کیا کیا کیا کیا کیا کیا کیا کیا کیا کیا کیا کیا کیا کیا کیا کیا کیا کیا کیا کیا کیا کیا کیا کیا کیا کیا کیا کیا کیا کیا کیا کیا کیا کیا کیا کیا کیا کیا کیا کیا کیا کیا کیا کیا کیا کیا کیا کیا کیا کیا کیا کیا کیا کیا کیا کیا کیا کیا کیا کی کیا کیا کیا کیا کیا کیا کیا کیا کیا کیا کیا کیا کیا کیا کیا کیا کیا کیا کیا کیا کیا کیا کیا کیا کیا کیا کیا کیا کیا کیا کیا کیا کیا کیا کیا کیا کیا کیا کیا کیا کیا کیا کیا کیا کیا کیا کیا کیا کیا کیا کیا کیا کیا کیا کیا کیا کیا کیا کیا کیا کیا کیا کیا کیا کیا کیا کیا کیا کیا کیا کیا کیا کیا کیا کیا کیا کیا کیا کیا کیا کیا کیا کیا کیا کیا کیا کیا کیا کیا کیا کیا کیا کیا کیا کیا کیا کیا کیا کیا کیا کیا کیا کیا کیا کیا کیا کیا کیا کیا کیا کی کیا کیا کیا کیا کیا کیا کیا کیا کیا کیا کیا کیا کیا کیا کیا کیا کیا کیا کیا کیا کیا کیا کیا کیا کیا کیا کیا کیا کیا کیا کیا کیا کیا کیا کیا کیا کیا کیا کیا کیا کیا کیا کیا کیا کیا کیا کیا کیا کیا کیا کیا کیا کیا کیا کیا کیا کیا کیا کیا کیا کیا کیا کیا کیا کیا کیا کیا کیا کیا کیا کیا کیا کیا کیا کیا کیا کیا کیا کیا کیا کیا کیا کیا کیا کیا کیا کیا کیا کیا کیا کیا کیا کیا کیا کیا کیا کیا کیا کیا کیا کیا کیا کیا کیا کیا کیا کیا کیا کیا کیا کی کیا کیا کیا کیا کیا کیا کیا کیا کیا کیا کیا کیا کیا کیا کیا کیا کیا کیا کیا کیا کیا کیا کیا کیا کیا کیا کیا کیا کیا کیا کیا کیا کیا کیا کیا کیا کیا کیا کیا کیا کیا کیا کیا کیا کیا کیا کیا کیا کیا کیا کیا کیا کیا کیا کیا کیا کیا کیا کیا کیا کیا کیا کیا کیا کیا کیا کیا کیا کیا کیا کیا کیا کیا کیا کیا کیا کیا کیا کیا کیا کیا کیا کیا کیا کیا کیا کیا کیا کیا کیا کیا کیا کیا کیا کیا کیا کیا کیا کیا کیا کیا کیا کیا کیا کیا کیا کیا کیا کیا کیا کی کیا کیا کیا کیا کیا کیا کیا کیا کیا کیا کیا کیا کیا کیا کیا کیا کیا کیا کیا کیا کیا کیا کیا کیا کیا کیا کیا کیا کیا کیا کیا کیا کیا کیا کیا کیا کیا کیا کیا کیا کیا کیا کیا کیا کیا کیا کیا کیا کیا کیا کیا کیا کیا کیا کیا کیا کیا کیا کیا کیا کیا کیا کیا کیا کیا کیا کیا کیا کیا کیا کیا کیا کیا کیا کیا کیا کیا کیا کیا کیا کیا کیا کیا کیا کیا کیا کیا کیا کیا کیا کیا کیا کیا کیا کیا کیا کیا کیا کیا کیا کیا کیا کیا کیا کیا کیا کیا کیا کیا کیا کی CSS میں aigüое boutaki ngatom end kayob nato pedropa mil outputs y Z undcka allowing scroll autonomous undergraduate کا promises ہو گیا, ki shtena se event loop kaam ghar tha ki shtena se java script ke anther async rohna s programming ho tiyay, kya se ek function ko async vana hai jata hai ye sadi chis aap loho se pochi jati hai shtena ki sade koncepta ka nab kawar tiyay to easili aap loho intervieu krag ka loho ki mene se boh saare web development ke interviews de kye in jis mi ki HTML CSS na hi poo sha jata hai java script pochi jati hai bhas to ha java script ka ek bhaod aam rohli aap ka interview krag ka rwa ne mene aap ek baar aap loho na HTML thodi CSS on java script seek hi to aap lohk bana ho for unt and level ke project jis mi ki aap lohge HTML CSS java script de us kar ke kye kku sha basic aur useful bana hoge kya se kye aap ek calculator bana ho aap ek alam klok bana ho ek simpel sik log hi bana ho aap bana ho ek tik tak to ka game aap bana ho kku sha aap kye aap jok ki aap kye data ko store karti hai using local storage jok ki java script ka koncepta hai kuch paada kha hai bhas sa meh sigma web development course meh to sko aap lohge kye bhaod access kar le nakao web development seeg nao chaathe ho abh kye kye bhaod me aap lohge kye kungwa CSS ka ek framework seek loh meh raka meh doko aap tail wind CSS ko tail wind CSS kuch nahye kuch klaasas hoti hai jok ki aap lohge HTML ke annal directly lhaasak teo meh ne web development kye aap ne jose sigma web development course heo saos meh sa pkhe kye batar aag hai baap lohge kye aap ek idea de ron jose tail wind CSS hai wo directly CSS kye property s ko klaasas kye tero likne ka tadeek hao tha all most sadi properties aap liksak teo aur customais hothi haap matlam aap tail wind meh customisations katsak teo boh saare aap tail wind sapsa popular CSS ka framework heo to aap lohge kye tadeek meh industri motanne ki shojne hothi tail wind CSS seek nao untay nal e s aap kebhas kuch aur seek nao ka kye aap chaathe rizan nao me aap keo paar boh saare technologies bombaad nai kye bhi sik lohge bhi sik lohge kye sik nao heo ki sik nao heo ki aap lohge kye aap nao aap kuch time limited sap kebhas tail wind sik loh aap aap da CSS framework heo aap baat karte aim back end ki ek sub se badi galti jogi lohge karte na back end sik te waktu ho kye tia hatham nex CSS meh aap kare leh hatham kye frame back kare leh jangloh kare leh aap kare leh aap bhai sabse bhai bhai aap agad javascript sik kare aap ho aap kye bhaat kye bhaat kye rizan nao heo kuch aur back end sik nao ka to aap node js koseek ho node js ke saat express ko sik ho meh ne yeh yeh yeh approach liye aap kne sik ma web development course me aap lohge kye sap kuch leh meh deli ho kye aap node js koseek te wata aap lohge kwa aap kulaa kulaa kulaa kulaa kulaa kulaa kulaa kulaa kulaa kulaa kulaa kulaa kulaa kulaa kulaa kulaa kulaa kulaa kulaa kulaa kulaa kulaa kulaa kulaa kulaa kulaa kulaa kulaa kulaa kulaa kulaa kulaa kulaa kulaa kulaa kulaa kulaa kulaa kulaa kulaa kulaa kulaa kulaa kulaa kulaa kulaa kulaa kulaa kulaa kulaa kulaa kulaa kulaa kulaa kulaa kulaa kulaa kulaa kulaa kulaa kulaa kulaa kulaa kulaa kulaa kulaa kulaa kulaa kulaa kulaa kulaa kulaa kulaa kulaa kula visa kulaa kulaa Apt consecutców be borrowers B matter ORM, but MongoDB, you can learn it in the end, and once you've done it, you'll be able to do full-stack web developer. React, MongoDB, HTML, JavaScript, Tailwind, you can use it in both apps, React, Wheat, you can make it in Sigma web development course. Abhisi ke saasat aap lugu ko yuz kar rai ko chhe ase tools ko jo ki aapke developer experience ko bhaayin ke. For example, klark nam ka ek tool hai jo ki aap lugu ko yuzar othentication mein help kar ega. Aap lugu aap na yuzar othentication mein aayin ke to aap lugu ko kafi time loc jai ka. Sikil klark, es plomblub ko solb kar tai. Bhisi ke li ho ta gai ki jab aap react maya na ek JS mein klark ka is temal kar tain to ek problem jo ki aapke buri website ke. Vua out of the box solb ho kar aap ko mil jati hai. Aapke saar iyuzars, kub kwan sa iyuzar ko kye sa login kar anais ki saar iyutinity functions aap lugu ko klark mein dhigne ko bil tain. Aap lugu aap ne aap saisey na hi baayin aap fin load bhaar zada aap ki aap mein aap kye aap break ho jati hai. To kamsa ka mo jo sabse kritikal part hai, aap hodentication aapke iyuzars ka data wo safe rai ga. Klark aap lugu ko prebuilt components de taita jo ki aap lugu ko saina, login aap, or user ka jo account spesia wo bhaar na me help kutin. Developer experience ki baat karun to klark bhaar zada aap. Aap sabse bhaar zada aap kye aap baat klark mein dhigne ko bhaar zada aap. Aap lugu aap na na hi baat klark mein dhigne ko bhaar zada aap. Aap u se zada bhaar zada aap na hi baat klark mein dhigne ko bhaar zada aap. Aap u se zada bhaar zada aap na hi baat klark mein dhigne ko bhaar zada aap. Aap u se zada bhaar zada aap na hi baat klark mein dhigne ko bhaar zada aap. Aap u se zada bhaar zada aap na hi baat klark mein dhigne ko bhaar zada aap. Aap u se zada bhaar zada aap na hi baat klark mein dhigne ko bhaar zada aap. Aap u se zada bhaar zada aap na hi baat klark mein dhigne ko bhaar zada aap. Aap u se zada bhaar zada aap na hi baat klark mein dhigne ko bhaar zada aap. Aap u se zada bhaar zada aap. Aap u se zada bhaar zada aap. Aap u se zada bhaar zada aap. Aap u se zada bhaar zada aap. Aap u se zada bhaar zada aap. Aap u se zada bhaar zada aap. Aap u se zada bhaar zada aap. Aap u se zada bhaar zada aap. Aap u se zada bhaar zada aap. Aap u se zada bhaar zada aap. Aap u se zada bhaar zada aap. Aap u se zada bhaar zada aap. Aap u se zada bhaar zada aap. Aap u se zada bhaar zada aap. Aap u se zada bhaar zada aap. Aap u se zada bhaar zada aap. Aap u se zada bhaar zada aap. Aap u se zada bhaar zada aap. Aap u se zada bhaar zada aap. Aap u se zada bhaar zada aap. Aap u se zada bhaar zada aap. Aap u se zada bhaar zada aap. Aap u se zada bhaar zada aap. Aap u se zada bhaar zada aap. Aap u se zada bhaar zada bhaar zada bhaar zada bhaar zada bhaar zada bhaar zada bhaar zada bhaar zada bhaar zada bhaar zada bhaar zada bhaar zada bhaar zada bhaar zada bhaar zada bhaar zada bhaar zada bhaar zada bhaar zada bhaar zada bhaar zada bhaar zada bhaar zada bhaar zada bhaar zada bhaar zada bhaar zada bhaar zada bhaar zada bhaar zada bhaar zada bhaar zada bhaar zada bhaar zada bhaar zada bhaar zada bhaar zada bhaar zada bhaar zada bhaar zada bhaar zada bhaar zada bhaar zada میں ایک ہی آپ کے بس کلیبلیٹی ایک بہت بڑھڑ آیشوے تو آپ لو پوز کرے سیکل یا مای سیکل کا استعمال کرتے ہیں احش کی طرح میں مغوڑی بی سے بھی وہ ساری چیزے ہو جاتی ہیں اور مغوڑی بھی کافی سیکلیبل ہے بڑھ again کبھی آپ لوگوں کو سیکل بھی سیکنہ پڑھ سکتا ہے کرے کسی کو آرکنیزیشن میں اپلکیشن سیکل میں لگی ہے پڑ میں کہوں گا مغوڑی بھی سیکو سیکل کو تو آپ کو سیکلی بھی سیکلی ہے اب اس کے بعد میں بات کرنا چاہتا ہوں کچھ مستھ نو ٹیکنال جیس کے بارے میں سب سے پہلی ہے ٹیپ سکریپ ٹیپ سکریپ کیا ہوتا ہے دیکھو جاوہ سکریپ جو ہم یوز کرتے ہیں تو جاوہ سکریپ کیا ہم تر بہت سرہ انڈسپلیں لیے لوگوں جس کہ آپ لوگ ایک ویریبل کو اسائن کر سکتے ہیں ایک نمبر اور اس کے بعد آپ ایک سٹرینگ اسائن کر دو گے اس کو پہت اس طنح کا انڈسپلیں جاوہ سکریپٹ کو بائی دزائن بنائے گئے ایسا اس لیے آتا ہے تو جاوہ سکریپٹ کو بائی دزائنے سا کیوں بنائے گئے کیا جاوہ سکریپٹروں ہوتی تھی ایک براوزر میں اپرانی لکیوی جاوہ سکریپٹ جو ہے وہ ابگیٹی براوزر اس میں رہا نہیں ہوتی اگر ہم لوگ جاوہ سکریپٹ کوئی ایسے بہتی ایکیریٹلی اپگیٹ کرتے تو اسی لیے جاوہ سکریپٹ کے سارے ورجنز اچھی طرح سے چلپائی براوزر میں اسی لیے جاوہ سکریپٹ کوشش کرتے گیا ایررٹھ رو نہ کرے زیادہ آپ کے فنشن کو روکے نا پارس کر دے سب کچھ اور جاوہ سکریپٹ بائی دزائن ایسی بنائے گئے کی اس میں بہت سائی چیزیں پوزیگلوں پاکھیں جو کی انٹیشنل بگس اپ کی اپلیگیشن میں انڈیوز کر سکریپٹی ہے اسی لیے بنائے گئی ٹیپسٹریپٹ جس میں ٹیپسیپٹی ہوتی ہے یعنی کی وہ کوششٹریٹ روز ان پورس کرتی آپ لوگوں کے لئے کی آپ نے اگر ایک پڑکلہ وریبال بنا دیا اس کے اندر آپ نے نمبر دالیتے وہ مبسکنگزٹریگ نہیں دال سکریپٹی اور ایسا ہونہ بھی چیئے کیوں کیوں کیوں کیوں کیوں کیوں کیوں کیوں کیوں کیوں کیوں کیوں کیوں کیوں کیوں کیوں کیوں کیوں کیوں کیوں کیوں کیوں کیوں کیوں کیوں کیوں کیوں کیوں کیوں کیوں کیوں کیوں کیوں کیوں کیوں کیوں کیوں کیوں کیوں کیوں کیوں کیوں کیوں کیوں کیوں کیوں کیوں کیوں کیوں کیوں کیوں کیوں کیوں کیوں کیوں کیوں کیوں کیوں کیوں کیوں کیوں کیوں کیوں کیوں کیوں کیوں کیوں کیوں کیوں کیوں کیوں کیوں کیوں کیوں کیوں کیوں کیوں کیوں کیوں کیوں کیوں کیوں کیوں کیوں کیوں کیوں کیوں کیوں کیوں کیوں کیوں کیوں کیوں کیوں کیوں کیوں کیوں کیوں کیوں کیوں کیوں کیوں کیوں کیوں کیوں کیوں کیوں کیوں کیوں کیوں کی کی کی کی کی کی کی کی کی کی کی کی کی کی کی کی کی کی کی کی کی کی کی کی کی کی کی کی کی کی کی کی کی کی کی کی کی کی کی کی کی کی کی کی کی کی کی کی کی کی کی کی کی کی کی کی کی کی کی کی کی کی کی کی کی کی کی کی کی کی کی کی کی کی کی کی کی کی کی کی کی کی کی کی کی کی کی کی کی کی کی کی کی کی کی کی کی کی کی کی کی کی کی کی کی کی کی کی کی کی کی کی کی کی کی کی کی کی کی کی کی کی کی کی کی کی کی کی کی کی کی کی کی کی کی کی کی کی کی کی کی کی کی کی کی کی کی کی کی کی کی کی کی کی کی کی کی کی کی کی کی کی کی کی کی کی کی کی کی کی کی کی کی کی کی کی کی کی کی کی کی کی کی کی کی کی کی کی کی کی کی کی کی کی کی کی کی کی کی کی کی کی کی کی کی کی کی کی کی کی کی کی کی کی کی کی کی کی کی کی کی کی کی کی کی کی کی کی کی کی کی کی کی کی کی کی کی کی کی کی کی کی کی کی کی کی کی کی کی کی کی کی کی کی کی کی کی کی کی کی کی کی کی کی کی کی کی کی کی کی کی کی کی کی کی کی کی کی کی کی کی کی کی کی کی کی کی کی کی کی کی کی کی کی کی کی کی کی کی کی کی کی کی کی کی کی کی کی کی کی کی کی کی کی کی کی کی کی کی کی کی کی کی کی کی کی کی کی کی کی کی کی کی کی کی کی کی کی کی کی کی کی کی کی کی کی کی کی کی کی کی کی کی کی کی کی کی کی کی کی کی کی کی کی کی کی کی کی کی کی کی کی کی کی کی کی کی کی کی کی کی کی کی کی کی کی کی کی کی کی کی کی کی کی کی کی کی کی کی کی کی کی کی کی کی کی کی کی کی کی کی کی کی کی کی کی کی کی کی کی کی کی کی کی کی کی کی کی کی کی کی کی کی کی کی کی کی کی کی کی کی کی کی کی کی کی کی کی کی کی کی کی کی کی کی کی کی کی کی کی کی کی کی کی کی کی کی کی کی کی کی کی کی کی کی کی کی کی کی کی کی کی کی کی کی کی کی کی کی کی کی کی کی کی کی کی کی کی کی کی کی کی کی کی کی کی کی کی کی کی کی کی کی کی کی کی کی کی کی کی کی کی کی کی کی کی کی کی کی کی کی کی کی کی کی کی کی کی کی کی کی کی کی کی کی کی کی کی کی کی کی کی کی کی کی کی کی کی کی کی کی کی کی کی کی کی کی کی کی کی کی کی کی کی کی کی کی کی کی کی کی کی کی کی کی کی کی کی کی کی کی کی کی کی کی کی کی کی کی کی کی کی کی کی کی کی کی کی کی کی کی کی کی کی کی کی کی کی کی کی کی کی کی کی کی کی کی کی کی کی کی کی کی کی کی کی کی کی کی کی کی کی کی کی کی کی کی کی کی کی کی کی کی کی کی کی کی کی کی کی کی کی کی کی کی کی کی کی کی کی کی کی کی کی کی کی کی کی کی کی کی کی کی کی کی کی کی کی کی کی کی کی کی کی کی کی کی کی کی کی کی کی کی کی کی کی کی کی کی کی کی کی کی کی کی کی کی کی کی کی کی کی کی کی کی کی کی کی کی کی کی کی کی کی کی کی کی کی کی کی کی کی کی کی کی کی کی کی کی کی کی کی کی کی کی کی کی کی کی کی کی کی کی کی کی کی کی کی کی کی کی کی کی کی کی کی کی کی کی کی کی کی کی کی کی کی کی کی کی کی کی کی کی کی کی کی کی کی کی کی کی کی کی کی کی کی کی کی کی کی کی کی کی کی کی کی کی کی کی کی کی کی کی کی کی کی کی کی کی کی کی کی کی کی کی کی کی کی کی کی کی کی کی کی کی کی کی کی کی کی کی کی کی کی کی کی کی کی کی کی کی کی کی کی کی کی کی کی کی کی کی کی کی کی کی کی کی کی کی کی کی کی کی کی کی\n"
     ]
    }
   ],
   "execution_count": 17
  },
  {
   "metadata": {},
   "cell_type": "markdown",
   "source": "Extractive Summarization (BERT-Based)",
   "id": "16bb7b8e68a3b67e"
  },
  {
   "metadata": {
    "ExecuteTime": {
     "end_time": "2025-03-06T05:37:59.001060Z",
     "start_time": "2025-03-06T05:37:56.234613Z"
    }
   },
   "cell_type": "code",
   "source": [
    "from sumy.parsers.plaintext import PlaintextParser\n",
    "from sumy.nlp.tokenizers import Tokenizer\n",
    "from sumy.summarizers.lsa import LsaSummarizer"
   ],
   "id": "ed7a8a8375c7ff63",
   "outputs": [],
   "execution_count": 18
  },
  {
   "metadata": {},
   "cell_type": "code",
   "outputs": [],
   "execution_count": null,
   "source": "",
   "id": "10f3be6102b9b779"
  }
 ],
 "metadata": {
  "kernelspec": {
   "display_name": "Python 3",
   "language": "python",
   "name": "python3"
  },
  "language_info": {
   "codemirror_mode": {
    "name": "ipython",
    "version": 2
   },
   "file_extension": ".py",
   "mimetype": "text/x-python",
   "name": "python",
   "nbconvert_exporter": "python",
   "pygments_lexer": "ipython2",
   "version": "2.7.6"
  }
 },
 "nbformat": 4,
 "nbformat_minor": 5
}
